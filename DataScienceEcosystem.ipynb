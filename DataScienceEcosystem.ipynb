{
 "cells": [
  {
   "cell_type": "markdown",
   "id": "9f19b0b9",
   "metadata": {},
   "source": [
    "# Data Science Tools and Ecosystem"
   ]
  },
  {
   "cell_type": "markdown",
   "id": "92eaabb9",
   "metadata": {},
   "source": [
    "In this notebook, Data Science Tools and Ecosystem are summarized."
   ]
  },
  {
   "cell_type": "markdown",
   "id": "7a21c88a",
   "metadata": {},
   "source": [
    "<b>Objectives<b>\n",
    "* Languages used in Data Science.\n",
    "* Libraries used in Data Sciences.\n",
    "* Data Science Open Source Tools.\n",
    "* Example of Arithmetic expressions in Python"
   ]
  },
  {
   "cell_type": "markdown",
   "id": "979d278c",
   "metadata": {},
   "source": [
    "Some of the popular languages that Data Scientists used are:\n",
    "1. Python\n",
    "2. R\n",
    "3. SQL"
   ]
  },
  {
   "cell_type": "markdown",
   "id": "d44013cd",
   "metadata": {},
   "source": [
    "Some of the commonly used libraries used by Data Scientists include:\n",
    "1. Pandas\n",
    "2. NumPy\n",
    "3. Matplotlib\n",
    "4. Scikit-learn"
   ]
  },
  {
   "cell_type": "markdown",
   "id": "1a7cd905",
   "metadata": {},
   "source": [
    "|Data Science tools|\n",
    "|:-:|\n",
    "|Jupyter|\n",
    "|Jupyter Lab|\n",
    "|RStudio|"
   ]
  },
  {
   "cell_type": "markdown",
   "id": "5c3864d3",
   "metadata": {},
   "source": [
    "### Below are a few examples of evaluating arithmetic expressions in Python"
   ]
  },
  {
   "cell_type": "code",
   "execution_count": 1,
   "id": "c22bbbd6",
   "metadata": {},
   "outputs": [
    {
     "data": {
      "text/plain": [
       "17"
      ]
     },
     "execution_count": 1,
     "metadata": {},
     "output_type": "execute_result"
    }
   ],
   "source": [
    "#This is a simple arithmetic expression to multiply then add integers.\n",
    "(3*4)+5"
   ]
  },
  {
   "cell_type": "code",
   "execution_count": 12,
   "id": "97a51efd",
   "metadata": {},
   "outputs": [
    {
     "name": "stdout",
     "output_type": "stream",
     "text": [
      "3 : 20\n"
     ]
    }
   ],
   "source": [
    "#This will be convert 200 min to hours by dividing by 60\n",
    "minutes= 200\n",
    "clock=[minutes//60, minutes%60]\n",
    "print(clock[0],\":\",clock[1])"
   ]
  },
  {
   "cell_type": "markdown",
   "id": "b4e8bac7",
   "metadata": {},
   "source": [
    "## Author\n",
    "Alejandro Achkienasi"
   ]
  }
 ],
 "metadata": {
  "kernelspec": {
   "display_name": "Python 3 (ipykernel)",
   "language": "python",
   "name": "python3"
  },
  "language_info": {
   "codemirror_mode": {
    "name": "ipython",
    "version": 3
   },
   "file_extension": ".py",
   "mimetype": "text/x-python",
   "name": "python",
   "nbconvert_exporter": "python",
   "pygments_lexer": "ipython3",
   "version": "3.10.9"
  }
 },
 "nbformat": 4,
 "nbformat_minor": 5
}
